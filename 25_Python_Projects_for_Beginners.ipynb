{
  "cells": [
    {
      "cell_type": "markdown",
      "metadata": {
        "colab_type": "text",
        "id": "view-in-github"
      },
      "source": [
        "<a href=\"https://colab.research.google.com/github/Habib-bhai/25_python_assignment/blob/main/25_Python_Projects_for_Beginners.ipynb\" target=\"_parent\"><img src=\"https://colab.research.google.com/assets/colab-badge.svg\" alt=\"Open In Colab\"/></a>"
      ]
    },
    {
      "cell_type": "markdown",
      "metadata": {
        "id": "gEoUL96BGaF-"
      },
      "source": [
        "# **1. Mad Libs**"
      ]
    },
    {
      "cell_type": "code",
      "execution_count": null,
      "metadata": {
        "colab": {
          "base_uri": "https://localhost:8080/",
          "height": 348
        },
        "id": "VCUnhlLAFzzw",
        "outputId": "d8a7d13d-4cc4-46e7-83e0-45861e800e00"
      },
      "outputs": [
        {
          "ename": "KeyboardInterrupt",
          "evalue": "Interrupted by user",
          "output_type": "error",
          "traceback": [
            "\u001b[0;31m---------------------------------------------------------------------------\u001b[0m",
            "\u001b[0;31mKeyboardInterrupt\u001b[0m                         Traceback (most recent call last)",
            "\u001b[0;32m<ipython-input-1-4b9e5de79fe3>\u001b[0m in \u001b[0;36m<cell line: 0>\u001b[0;34m()\u001b[0m\n\u001b[1;32m     21\u001b[0m \u001b[0;34m\u001b[0m\u001b[0m\n\u001b[1;32m     22\u001b[0m \u001b[0;32mif\u001b[0m \u001b[0m__name__\u001b[0m \u001b[0;34m==\u001b[0m \u001b[0;34m'__main__'\u001b[0m\u001b[0;34m:\u001b[0m\u001b[0;34m\u001b[0m\u001b[0;34m\u001b[0m\u001b[0m\n\u001b[0;32m---> 23\u001b[0;31m     \u001b[0mmad_libs\u001b[0m\u001b[0;34m(\u001b[0m\u001b[0;34m)\u001b[0m\u001b[0;34m\u001b[0m\u001b[0;34m\u001b[0m\u001b[0m\n\u001b[0m",
            "\u001b[0;32m<ipython-input-1-4b9e5de79fe3>\u001b[0m in \u001b[0;36mmad_libs\u001b[0;34m()\u001b[0m\n\u001b[1;32m      3\u001b[0m \u001b[0;34m\u001b[0m\u001b[0m\n\u001b[1;32m      4\u001b[0m     \u001b[0;31m# Collect user inputs\u001b[0m\u001b[0;34m\u001b[0m\u001b[0;34m\u001b[0m\u001b[0m\n\u001b[0;32m----> 5\u001b[0;31m     \u001b[0madjective\u001b[0m \u001b[0;34m=\u001b[0m \u001b[0minput\u001b[0m\u001b[0;34m(\u001b[0m\u001b[0;34m\"\\nEnter an adjective: \"\u001b[0m\u001b[0;34m)\u001b[0m\u001b[0;34m\u001b[0m\u001b[0;34m\u001b[0m\u001b[0m\n\u001b[0m\u001b[1;32m      6\u001b[0m     \u001b[0mnoun\u001b[0m \u001b[0;34m=\u001b[0m \u001b[0minput\u001b[0m\u001b[0;34m(\u001b[0m\u001b[0;34m\"\\nEnter a noun: \"\u001b[0m\u001b[0;34m)\u001b[0m\u001b[0;34m\u001b[0m\u001b[0;34m\u001b[0m\u001b[0m\n\u001b[1;32m      7\u001b[0m     \u001b[0mverb\u001b[0m \u001b[0;34m=\u001b[0m \u001b[0minput\u001b[0m\u001b[0;34m(\u001b[0m\u001b[0;34m\"\\nEnter a verb: \"\u001b[0m\u001b[0;34m)\u001b[0m\u001b[0;34m\u001b[0m\u001b[0;34m\u001b[0m\u001b[0m\n",
            "\u001b[0;32m/usr/local/lib/python3.11/dist-packages/ipykernel/kernelbase.py\u001b[0m in \u001b[0;36mraw_input\u001b[0;34m(self, prompt)\u001b[0m\n\u001b[1;32m   1175\u001b[0m                 \u001b[0;34m\"raw_input was called, but this frontend does not support input requests.\"\u001b[0m\u001b[0;34m\u001b[0m\u001b[0;34m\u001b[0m\u001b[0m\n\u001b[1;32m   1176\u001b[0m             )\n\u001b[0;32m-> 1177\u001b[0;31m         return self._input_request(\n\u001b[0m\u001b[1;32m   1178\u001b[0m             \u001b[0mstr\u001b[0m\u001b[0;34m(\u001b[0m\u001b[0mprompt\u001b[0m\u001b[0;34m)\u001b[0m\u001b[0;34m,\u001b[0m\u001b[0;34m\u001b[0m\u001b[0;34m\u001b[0m\u001b[0m\n\u001b[1;32m   1179\u001b[0m             \u001b[0mself\u001b[0m\u001b[0;34m.\u001b[0m\u001b[0m_parent_ident\u001b[0m\u001b[0;34m[\u001b[0m\u001b[0;34m\"shell\"\u001b[0m\u001b[0;34m]\u001b[0m\u001b[0;34m,\u001b[0m\u001b[0;34m\u001b[0m\u001b[0;34m\u001b[0m\u001b[0m\n",
            "\u001b[0;32m/usr/local/lib/python3.11/dist-packages/ipykernel/kernelbase.py\u001b[0m in \u001b[0;36m_input_request\u001b[0;34m(self, prompt, ident, parent, password)\u001b[0m\n\u001b[1;32m   1217\u001b[0m             \u001b[0;32mexcept\u001b[0m \u001b[0mKeyboardInterrupt\u001b[0m\u001b[0;34m:\u001b[0m\u001b[0;34m\u001b[0m\u001b[0;34m\u001b[0m\u001b[0m\n\u001b[1;32m   1218\u001b[0m                 \u001b[0;31m# re-raise KeyboardInterrupt, to truncate traceback\u001b[0m\u001b[0;34m\u001b[0m\u001b[0;34m\u001b[0m\u001b[0m\n\u001b[0;32m-> 1219\u001b[0;31m                 \u001b[0;32mraise\u001b[0m \u001b[0mKeyboardInterrupt\u001b[0m\u001b[0;34m(\u001b[0m\u001b[0;34m\"Interrupted by user\"\u001b[0m\u001b[0;34m)\u001b[0m \u001b[0;32mfrom\u001b[0m \u001b[0;32mNone\u001b[0m\u001b[0;34m\u001b[0m\u001b[0;34m\u001b[0m\u001b[0m\n\u001b[0m\u001b[1;32m   1220\u001b[0m             \u001b[0;32mexcept\u001b[0m \u001b[0mException\u001b[0m\u001b[0;34m:\u001b[0m\u001b[0;34m\u001b[0m\u001b[0;34m\u001b[0m\u001b[0m\n\u001b[1;32m   1221\u001b[0m                 \u001b[0mself\u001b[0m\u001b[0;34m.\u001b[0m\u001b[0mlog\u001b[0m\u001b[0;34m.\u001b[0m\u001b[0mwarning\u001b[0m\u001b[0;34m(\u001b[0m\u001b[0;34m\"Invalid Message:\"\u001b[0m\u001b[0;34m,\u001b[0m \u001b[0mexc_info\u001b[0m\u001b[0;34m=\u001b[0m\u001b[0;32mTrue\u001b[0m\u001b[0;34m)\u001b[0m\u001b[0;34m\u001b[0m\u001b[0;34m\u001b[0m\u001b[0m\n",
            "\u001b[0;31mKeyboardInterrupt\u001b[0m: Interrupted by user"
          ]
        }
      ],
      "source": [
        "def mad_libs():\n",
        "  #\n",
        "\n",
        "    # Collect user inputs\n",
        "    adjective = input(\"\\nEnter an adjective: \")\n",
        "    noun = input(\"\\nEnter a noun: \")\n",
        "    verb = input(\"\\nEnter a verb: \")\n",
        "    place = input(\"\\nEnter a place: \")\n",
        "    adverb = input(\"\\nEnter an adverb: \")\n",
        "\n",
        "    # Construct the Mad Libs story using the inputs\n",
        "    story = (\n",
        "        f\"Today I went to {place} and saw a {adjective} {noun}. \"\n",
        "        f\"It was so {adjective} that it started to {verb} {adverb}. \"\n",
        "        \"I couldn't believe my eyes!\"\n",
        "    )\n",
        "\n",
        "    # Print the final story\n",
        "    print(\"\\nHere's your Mad Libs story:\")\n",
        "    print(story)\n",
        "\n",
        "if __name__ == '__main__':\n",
        "    mad_libs()\n"
      ]
    },
    {
      "cell_type": "markdown",
      "metadata": {
        "id": "uaMdle2JGx1b"
      },
      "source": [
        "# **2. Guess the Number Game (computer)**"
      ]
    },
    {
      "cell_type": "code",
      "execution_count": null,
      "metadata": {
        "id": "xS4IyR0QG0aS"
      },
      "outputs": [],
      "source": [
        "import random\n",
        "def guess(x):\n",
        "  random_number = random.randint(1, x)\n",
        "  guess = 0\n",
        "  while guess != random_number:\n",
        "    guess = int(input(f'Guess a number between 1 and {x}: '))\n",
        "    if guess < random_number:\n",
        "      print(' guess again. Too low.')\n",
        "    elif guess > random_number:\n",
        "      print(' guess again. Too high.')\n",
        "\n",
        "  print(f'Yay, congrats. You have guessed the number {random_number} correctly!!')\n",
        "\n",
        "guess(10)"
      ]
    },
    {
      "cell_type": "markdown",
      "metadata": {
        "id": "tnHsAYzXHKrA"
      },
      "source": [
        "# **3. Guess the Number Game (user)**"
      ]
    },
    {
      "cell_type": "code",
      "execution_count": null,
      "metadata": {
        "id": "KZygzKgRHQ1N"
      },
      "outputs": [],
      "source": [
        "import random\n",
        "def computer_guess(x: int):\n",
        "  low = 1\n",
        "  high = x\n",
        "  feedback = ''\n",
        "  while feedback != 'c' and low != high:\n",
        "    guess = random.randint(low, high)\n",
        "    feedback = input(f'\\nIs {guess} too high (H), too low (L), or correct (C)?? ').lower()\n",
        "    if feedback == 'h':\n",
        "      high = guess - 1\n",
        "    elif feedback == 'l':\n",
        "      low = guess + 1\n",
        "\n",
        "  print(f'Yay! The computer guessed your number, {guess}, correctly! 😎')\n",
        "\n",
        "computer_guess(10)"
      ]
    },
    {
      "cell_type": "markdown",
      "metadata": {
        "id": "BecqQ9DKHfg4"
      },
      "source": [
        "# **4. Rock, paper, scissors**"
      ]
    },
    {
      "cell_type": "code",
      "execution_count": null,
      "metadata": {
        "id": "v0JgM4cEHkAJ"
      },
      "outputs": [],
      "source": [
        "def rock_paper_scissor():\n",
        "  rock_paper_scissor = [\"rock\", \"paper\", \"scissor\"]\n",
        "  computer = random.choice(rock_paper_scissor)\n",
        "  player_choice = \"\"\n",
        "  while player_choice not in rock_paper_scissor:\n",
        "    player_choice = input(\"rock, paper, or scissor?: \").lower()\n",
        "    if player_choice == computer:\n",
        "      print(f\"Draw!! Computer: {computer}   Player: {player_choice} \")\n",
        "      break\n",
        "\n",
        "    if player_choice == \"rock\" and computer == \"scissor\" or player_choice == \"paper\" and computer == \"rock\" or player_choice == \"scissor\" and computer == \"paper\":\n",
        "      print(f\"PLayer wins Computer: {computer}   Player: {player_choice}\")\n",
        "      break\n",
        "\n",
        "    else:\n",
        "      print(f\"Computer wins Computer: {computer}   Player: {player_choice}\")\n",
        "      break\n",
        "\n",
        "rock_paper_scissor()\n",
        "\n"
      ]
    },
    {
      "cell_type": "markdown",
      "metadata": {
        "id": "VBsd9lHSH_sV"
      },
      "source": [
        "# **5. Hangman**"
      ]
    },
    {
      "cell_type": "code",
      "execution_count": null,
      "metadata": {
        "id": "fINQ6SWBIrJz"
      },
      "outputs": [],
      "source": [
        "words = [\"aback\",\"abaft\",\"abandoned\",\"abashed\",\"aberrant\",\"abhorrent\",\"abiding\",\"abject\",\"ablaze\",\"able\",\"abnormal\",\"aboard\",\"aboriginal\",\"abortive\",\"abounding\",\"abrasive\",\"abrupt\",\"absent\",\"absorbed\",\"absorbing\",\"abstracted\",\"absurd\",\"abundant\",\"abusive\",\"acceptable\",\"accessible\",\"accidental\",\"accurate\",\"acid\",\"acidic\",\"acoustic\",\"acrid\",\"actually\",\"ad hoc\",\"adamant\",\"adaptable\",\"addicted\",\"adhesive\",\"adjoining\",\"adorable\",\"adventurous\",\"afraid\",\"aggressive\",\"agonizing\",\"agreeable\",\"ahead\",\"ajar\",\"alcoholic\",\"alert\",\"alike\",\"alive\",\"alleged\",\"alluring\",\"aloof\",\"amazing\",\"ambiguous\",\"ambitious\",\"amuck\",\"amused\",\"amusing\",\"ancient\",\"angry\",\"animated\",\"annoyed\",\"annoying\",\"anxious\",\"apathetic\",\"aquatic\",\"aromatic\",\"arrogant\",\"ashamed\",\"aspiring\",\"assorted\",\"astonishing\",\"attractive\",\"auspicious\",\"automatic\",\"available\",\"average\",\"awake\",\"aware\",\"awesome\",\"awful\",\"axiomatic\",\"bad\",\"barbarous\",\"bashful\",\"bawdy\",\"beautiful\",\"befitting\",\"belligerent\",\"beneficial\",\"bent\",\"berserk\",\"best\",\"better\",\"bewildered\",\"big\",\"billowy\",\"bite-sized\",\"bitter\",\"bizarre\",\"black\",\"black-and-white\",\"bloody\",\"blue\",\"blue-eyed\",\"blushing\",\"boiling\",\"boorish\",\"bored\",\"boring\",\"bouncy\",\"boundless\",\"brainy\",\"brash\",\"brave\",\"brawny\",\"breakable\",\"breezy\",\"brief\",\"bright\",\"bright\",\"broad\",\"broken\",\"brown\",\"bumpy\",\"burly\",\"bustling\",\"busy\",\"cagey\",\"calculating\",\"callous\",\"calm\",\"capable\",\"capricious\",\"careful\",\"careless\",\"caring\",\"cautious\",\"ceaseless\",\"certain\",\"changeable\",\"charming\",\"cheap\",\"cheerful\",\"chemical\",\"chief\",\"childlike\",\"chilly\",\"chivalrous\",\"chubby\",\"chunky\",\"clammy\",\"classy\",\"clean\",\"clear\",\"clever\",\"cloistered\",\"cloudy\",\"closed\",\"clumsy\",\"cluttered\",\"coherent\",\"cold\",\"colorful\",\"colossal\",\"combative\",\"comfortable\",\"common\",\"complete\",\"complex\",\"concerned\",\"condemned\",\"confused\",\"conscious\",\"cooing\",\"cool\",\"cooperative\",\"coordinated\",\"courageous\",\"cowardly\",\"crabby\",\"craven\",\"crazy\",\"creepy\",\"crooked\",\"crowded\",\"cruel\",\"cuddly\",\"cultured\",\"cumbersome\",\"curious\",\"curly\",\"curved\",\"curvy\",\"cut\",\"cute\",\"cute\",\"cynical\",\"daffy\",\"daily\",\"damaged\",\"damaging\",\"damp\",\"dangerous\",\"dapper\",\"dark\",\"dashing\",\"dazzling\",\"dead\",\"deadpan\",\"deafening\",\"dear\",\"debonair\",\"decisive\",\"decorous\",\"deep\",\"deeply\",\"defeated\",\"defective\",\"defiant\",\"delicate\",\"delicious\",\"delightful\",\"demonic\",\"delirious\",\"dependent\",\"depressed\",\"deranged\",\"descriptive\",\"deserted\",\"detailed\",\"determined\",\"devilish\",\"didactic\",\"different\",\"difficult\",\"diligent\",\"direful\",\"dirty\",\"disagreeable\",\"disastrous\",\"discreet\",\"disgusted\",\"disgusting\",\"disillusioned\",\"dispensable\",\"distinct\",\"disturbed\",\"divergent\",\"dizzy\",\"domineering\",\"doubtful\",\"drab\",\"draconian\",\"dramatic\",\"dreary\",\"drunk\",\"dry\",\"dull\",\"dusty\",\"dusty\",\"dynamic\",\"dysfunctional\",\"eager\",\"early\",\"earsplitting\",\"earthy\",\"easy\",\"eatable\",\"economic\",\"educated\",\"efficacious\",\"efficient\",\"eight\",\"elastic\",\"elated\",\"elderly\",\"electric\",\"elegant\",\"elfin\",\"elite\",\"embarrassed\",\"eminent\",\"empty\",\"enchanted\",\"enchanting\",\"encouraging\",\"endurable\",\"energetic\",\"enormous\",\"entertaining\",\"enthusiastic\",\"envious\",\"equable\",\"equal\",\"erect\",\"erratic\",\"ethereal\",\"evanescent\",\"evasive\",\"even\",\"excellent\",\"excited\",\"exciting\",\"exclusive\",\"exotic\",\"expensive\",\"extra-large\",\"extra-small\",\"exuberant\",\"exultant\",\"fabulous\",\"faded\",\"faint\",\"fair\",\"faithful\",\"fallacious\",\"false\",\"familiar\",\"famous\",\"fanatical\",\"fancy\",\"fantastic\",\"far\",\"far-flung\",\"fascinated\",\"fast\",\"fat\",\"faulty\",\"fearful\",\"fearless\",\"feeble\",\"feigned\",\"female\",\"fertile\",\"festive\",\"few\",\"fierce\",\"filthy\",\"fine\",\"finicky\",\"first\",\"five\",\"fixed\",\"flagrant\",\"flaky\",\"flashy\",\"flat\",\"flawless\",\"flimsy\",\"flippant\",\"flowery\",\"fluffy\",\"fluttering\",\"foamy\",\"foolish\",\"foregoing\",\"forgetful\",\"fortunate\",\"four\",\"frail\",\"fragile\",\"frantic\",\"free\",\"freezing\",\"frequent\",\"fresh\",\"fretful\",\"friendly\",\"frightened\",\"frightening\",\"full\",\"fumbling\",\"functional\",\"funny\",\"furry\",\"furtive\",\"future\",\"futuristic\",\"fuzzy\",\"gabby\",\"gainful\",\"gamy\",\"gaping\",\"garrulous\",\"gaudy\",\"general\",\"gentle\",\"giant\",\"giddy\",\"gifted\",\"gigantic\",\"glamorous\",\"gleaming\",\"glib\",\"glistening\",\"glorious\",\"glossy\",\"godly\",\"good\",\"goofy\",\"gorgeous\",\"graceful\",\"grandiose\",\"grateful\",\"gratis\",\"gray\",\"greasy\",\"great\",\"greedy\",\"green\",\"grey\",\"grieving\",\"groovy\",\"grotesque\",\"grouchy\",\"grubby\",\"gruesome\",\"grumpy\",\"guarded\",\"guiltless\",\"gullible\",\"gusty\",\"guttural\",\"habitual\",\"half\",\"hallowed\",\"halting\",\"handsome\",\"handsomely\",\"handy\",\"hanging\",\"hapless\",\"happy\",\"hard\",\"hard-to-find\",\"harmonious\",\"harsh\",\"hateful\",\"heady\",\"healthy\",\"heartbreaking\",\"heavenly\",\"heavy\",\"hellish\",\"helpful\",\"helpless\",\"hesitant\",\"hideous\",\"high\",\"highfalutin\",\"high-pitched\",\"hilarious\",\"hissing\",\"historical\",\"holistic\",\"hollow\",\"homeless\",\"homely\",\"honorable\",\"horrible\",\"hospitable\",\"hot\",\"huge\",\"hulking\",\"humdrum\",\"humorous\",\"hungry\",\"hurried\",\"hurt\",\"hushed\",\"husky\",\"hypnotic\",\"hysterical\",\"icky\",\"icy\",\"idiotic\",\"ignorant\",\"ill\",\"illegal\",\"ill-fated\",\"ill-informed\",\"illustrious\",\"imaginary\",\"immense\",\"imminent\",\"impartial\",\"imperfect\",\"impolite\",\"important\",\"imported\",\"impossible\",\"incandescent\",\"incompetent\",\"inconclusive\",\"industrious\",\"incredible\",\"inexpensive\",\"infamous\",\"innate\",\"innocent\",\"inquisitive\",\"insidious\",\"instinctive\",\"intelligent\",\"interesting\",\"internal\",\"invincible\",\"irate\",\"irritating\",\"itchy\",\"jaded\",\"jagged\",\"jazzy\",\"jealous\",\"jittery\",\"jobless\",\"jolly\",\"joyous\",\"judicious\",\"juicy\",\"jumbled\",\"jumpy\",\"juvenile\",\"kaput\",\"keen\",\"kind\",\"kindhearted\",\"kindly\",\"knotty\",\"knowing\",\"knowledgeable\",\"known\",\"labored\",\"lackadaisical\",\"lacking\",\"lame\",\"lamentable\",\"languid\",\"large\",\"last\",\"late\",\"laughable\",\"lavish\",\"lazy\",\"lean\",\"learned\",\"left\",\"legal\",\"lethal\",\"level\",\"lewd\",\"light\",\"like\",\"likeable\",\"limping\",\"literate\",\"little\",\"lively\",\"lively\",\"living\",\"lonely\",\"long\",\"longing\",\"long-term\",\"loose\",\"lopsided\",\"loud\",\"loutish\",\"lovely\",\"loving\",\"low\",\"lowly\",\"lucky\",\"ludicrous\",\"lumpy\",\"lush\",\"luxuriant\",\"lying\",\"lyrical\",\"macabre\",\"macho\",\"maddening\",\"madly\",\"magenta\",\"magical\",\"magnificent\",\"majestic\",\"makeshift\",\"male\",\"malicious\",\"mammoth\",\"maniacal\",\"many\",\"marked\",\"massive\",\"married\",\"marvelous\",\"material\",\"materialistic\",\"mature\",\"mean\",\"measly\",\"meaty\",\"medical\",\"meek\",\"mellow\",\"melodic\",\"melted\",\"merciful\",\"mere\",\"messy\",\"mighty\",\"military\",\"milky\",\"mindless\",\"miniature\",\"minor\",\"miscreant\",\"misty\",\"mixed\",\"moaning\",\"modern\",\"moldy\",\"momentous\",\"motionless\",\"mountainous\",\"muddled\",\"mundane\",\"murky\",\"mushy\",\"mute\",\"mysterious\",\"naive\",\"nappy\",\"narrow\",\"nasty\",\"natural\",\"naughty\",\"nauseating\",\"near\",\"neat\",\"nebulous\",\"necessary\",\"needless\",\"needy\",\"neighborly\",\"nervous\",\"new\",\"next\",\"nice\",\"nifty\",\"nimble\",\"nine\",\"nippy\",\"noiseless\",\"noisy\",\"nonchalant\",\"nondescript\",\"nonstop\",\"normal\",\"nostalgic\",\"nosy\",\"noxious\",\"null\",\"numberless\",\"numerous\",\"nutritious\",\"nutty\",\"oafish\",\"obedient\",\"obeisant\",\"obese\",\"obnoxious\",\"obscene\",\"obsequious\",\"observant\",\"obsolete\",\"obtainable\",\"oceanic\",\"odd\",\"offbeat\",\"old\",\"old-fashioned\",\"omniscient\",\"one\",\"onerous\",\"open\",\"opposite\",\"optimal\",\"orange\",\"ordinary\",\"organic\",\"ossified\",\"outgoing\",\"outrageous\",\"outstanding\",\"oval\",\"overconfident\",\"overjoyed\",\"overrated\",\"overt\",\"overwrought\",\"painful\",\"painstaking\",\"pale\",\"paltry\",\"panicky\",\"panoramic\",\"parallel\",\"parched\",\"parsimonious\",\"past\",\"pastoral\",\"pathetic\",\"peaceful\",\"penitent\",\"perfect\",\"periodic\",\"permissible\",\"perpetual\",\"petite\",\"petite\",\"phobic\",\"physical\",\"picayune\",\"pink\",\"piquant\",\"placid\",\"plain\",\"plant\",\"plastic\",\"plausible\",\"pleasant\",\"plucky\",\"pointless\",\"poised\",\"polite\",\"political\",\"poor\",\"possessive\",\"possible\",\"powerful\",\"precious\",\"premium\",\"present\",\"pretty\",\"previous\",\"pricey\",\"prickly\",\"private\",\"probable\",\"productive\",\"profuse\",\"protective\",\"proud\",\"psychedelic\",\"psychotic\",\"public\",\"puffy\",\"pumped\",\"puny\",\"purple\",\"purring\",\"pushy\",\"puzzled\",\"puzzling\",\"quack\",\"quaint\",\"quarrelsome\",\"questionable\",\"quick\",\"quickest\",\"quiet\",\"quirky\",\"quixotic\",\"quizzical\",\"rabid\",\"racial\",\"ragged\",\"rainy\",\"rambunctious\",\"rampant\",\"rapid\",\"rare\",\"raspy\",\"ratty\",\"ready\",\"real\",\"rebel\",\"receptive\",\"recondite\",\"red\",\"redundant\",\"reflective\",\"regular\",\"relieved\",\"remarkable\",\"reminiscent\",\"repulsive\",\"resolute\",\"resonant\",\"responsible\",\"rhetorical\",\"rich\",\"right\",\"righteous\",\"rightful\",\"rigid\",\"ripe\",\"ritzy\",\"roasted\",\"robust\",\"romantic\",\"roomy\",\"rotten\",\"rough\",\"round\",\"royal\",\"ruddy\",\"rude\",\"rural\",\"rustic\",\"ruthless\",\"sable\",\"sad\",\"safe\",\"salty\",\"same\",\"sassy\",\"satisfying\",\"savory\",\"scandalous\",\"scarce\",\"scared\",\"scary\",\"scattered\",\"scientific\",\"scintillating\",\"scrawny\",\"screeching\",\"second\",\"second-hand\",\"secret\",\"secretive\",\"sedate\",\"seemly\",\"selective\",\"selfish\",\"separate\",\"serious\",\"shaggy\",\"shaky\",\"shallow\",\"sharp\",\"shiny\",\"shivering\",\"shocking\",\"short\",\"shrill\",\"shut\",\"shy\",\"sick\",\"silent\",\"silent\",\"silky\",\"silly\",\"simple\",\"simplistic\",\"sincere\",\"six\",\"skillful\",\"skinny\",\"sleepy\",\"slim\",\"slimy\",\"slippery\",\"sloppy\",\"slow\",\"small\",\"smart\",\"smelly\",\"smiling\",\"smoggy\",\"smooth\",\"sneaky\",\"snobbish\",\"snotty\",\"soft\",\"soggy\",\"solid\",\"somber\",\"sophisticated\",\"sordid\",\"sore\",\"sore\",\"sour\",\"sparkling\",\"special\",\"spectacular\",\"spicy\",\"spiffy\",\"spiky\",\"spiritual\",\"spiteful\",\"splendid\",\"spooky\",\"spotless\",\"spotted\",\"spotty\",\"spurious\",\"squalid\",\"square\",\"squealing\",\"squeamish\",\"staking\",\"stale\",\"standing\",\"statuesque\",\"steadfast\",\"steady\",\"steep\",\"stereotyped\",\"sticky\",\"stiff\",\"stimulating\",\"stingy\",\"stormy\",\"straight\",\"strange\",\"striped\",\"strong\",\"stupendous\",\"stupid\",\"sturdy\",\"subdued\",\"subsequent\",\"substantial\",\"successful\",\"succinct\",\"sudden\",\"sulky\",\"super\",\"superb\",\"superficial\",\"supreme\",\"swanky\",\"sweet\",\"sweltering\",\"swift\",\"symptomatic\",\"synonymous\",\"taboo\",\"tacit\",\"tacky\",\"talented\",\"tall\",\"tame\",\"tan\",\"tangible\",\"tangy\",\"tart\",\"tasteful\",\"tasteless\",\"tasty\",\"tawdry\",\"tearful\",\"tedious\",\"teeny\",\"teeny-tiny\",\"telling\",\"temporary\",\"ten\",\"tender\",\"tense\",\"tense\",\"tenuous\",\"terrible\",\"terrific\",\"tested\",\"testy\",\"thankful\",\"therapeutic\",\"thick\",\"thin\",\"thinkable\",\"third\",\"thirsty\",\"thirsty\",\"thoughtful\",\"thoughtless\",\"threatening\",\"three\",\"thundering\",\"tidy\",\"tight\",\"tightfisted\",\"tiny\",\"tired\",\"tiresome\",\"toothsome\",\"torpid\",\"tough\",\"towering\",\"tranquil\",\"trashy\",\"tremendous\",\"tricky\",\"trite\",\"troubled\",\"truculent\",\"true\",\"truthful\",\"two\",\"typical\",\"ubiquitous\",\"ugliest\",\"ugly\",\"ultra\",\"unable\",\"unaccountable\",\"unadvised\",\"unarmed\",\"unbecoming\",\"unbiased\",\"uncovered\",\"understood\",\"undesirable\",\"unequal\",\"unequaled\",\"uneven\",\"unhealthy\",\"uninterested\",\"unique\",\"unkempt\",\"unknown\",\"unnatural\",\"unruly\",\"unsightly\",\"unsuitable\",\"untidy\",\"unused\",\"unusual\",\"unwieldy\",\"unwritten\",\"upbeat\",\"uppity\",\"upset\",\"uptight\",\"used\",\"useful\",\"useless\",\"utopian\",\"utter\",\"uttermost\",\"vacuous\",\"vagabond\",\"vague\",\"valuable\",\"various\",\"vast\",\"vengeful\",\"venomous\",\"verdant\",\"versed\",\"victorious\",\"vigorous\",\"violent\",\"violet\",\"vivacious\",\"voiceless\",\"volatile\",\"voracious\",\"vulgar\",\"wacky\",\"waggish\",\"waiting\",\"wakeful\",\"wandering\",\"wanting\",\"warlike\",\"warm\",\"wary\",\"wasteful\",\"watery\",\"weak\",\"wealthy\",\"weary\",\"well-groomed\",\"well-made\",\"well-off\",\"well-to-do\",\"wet\",\"whimsical\",\"whispering\",\"white\",\"whole\",\"wholesale\",\"wicked\",\"wide\",\"wide-eyed\",\"wiggly\",\"wild\",\"willing\",\"windy\",\"wiry\",\"wise\",\"wistful\",\"witty\",\"woebegone\",\"womanly\",\"wonderful\",\"wooden\",\"woozy\",\"workable\",\"worried\",\"worthless\",\"wrathful\",\"wretched\",\"wrong\",\"wry\",\"yellow\",\"yielding\",\"young\",\"youthful\",\"yummy\",\"zany\",\"zealous\",\"zesty\",\"zippy\",\"zonked\",\"account\",\"achiever\",\"acoustics\",\"act\",\"action\",\"activity\",\"actor\",\"addition\",\"adjustment\",\"advertisement\",\"advice\",\"aftermath\",\"afternoon\",\"afterthought\",\"agreement\",\"air\",\"airplane\",\"airport\",\"alarm\",\"amount\",\"amusement\",\"anger\",\"angle\",\"animal\",\"ants\",\"apparatus\",\"apparel\",\"appliance\",\"approval\",\"arch\",\"argument\",\"arithmetic\",\"arm\",\"army\",\"art\",\"attack\",\"attraction\",\"aunt\",\"authority\",\"babies\",\"baby\",\"back\",\"badge\",\"bag\",\"bait\",\"balance\",\"ball\",\"base\",\"baseball\",\"basin\",\"basket\",\"basketball\",\"bat\",\"bath\",\"battle\",\"bead\",\"bear\",\"bed\",\"bedroom\",\"beds\",\"bee\",\"beef\",\"beginner\",\"behavior\",\"belief\",\"believe\",\"bell\",\"bells\",\"berry\",\"bike\",\"bikes\",\"bird\",\"birds\",\"birth\",\"birthday\",\"bit\",\"bite\",\"blade\",\"blood\",\"blow\",\"board\",\"boat\",\"bomb\",\"bone\",\"book\",\"books\",\"boot\",\"border\",\"bottle\",\"boundary\",\"box\",\"boy\",\"brake\",\"branch\",\"brass\",\"breath\",\"brick\",\"bridge\",\"brother\",\"bubble\",\"bucket\",\"building\",\"bulb\",\"burst\",\"bushes\",\"business\",\"butter\",\"button\",\"cabbage\",\"cable\",\"cactus\",\"cake\",\"cakes\",\"calculator\",\"calendar\",\"camera\",\"camp\",\"can\",\"cannon\",\"canvas\",\"cap\",\"caption\",\"car\",\"card\",\"care\",\"carpenter\",\"carriage\",\"cars\",\"cart\",\"cast\",\"cat\",\"cats\",\"cattle\",\"cause\",\"cave\",\"celery\",\"cellar\",\"cemetery\",\"cent\",\"chalk\",\"chance\",\"change\",\"channel\",\"cheese\",\"cherries\",\"cherry\",\"chess\",\"chicken\",\"chickens\",\"children\",\"chin\",\"church\",\"circle\",\"clam\",\"class\",\"cloth\",\"clover\",\"club\",\"coach\",\"coal\",\"coast\",\"coat\",\"cobweb\",\"coil\",\"collar\",\"color\",\"committee\",\"company\",\"comparison\",\"competition\",\"condition\",\"connection\",\"control\",\"cook\",\"copper\",\"corn\",\"cough\",\"country\",\"cover\",\"cow\",\"cows\",\"crack\",\"cracker\",\"crate\",\"crayon\",\"cream\",\"creator\",\"creature\",\"credit\",\"crib\",\"crime\",\"crook\",\"crow\",\"crowd\",\"crown\",\"cub\",\"cup\",\"current\",\"curtain\",\"curve\",\"cushion\",\"dad\",\"daughter\",\"day\",\"death\",\"debt\",\"decision\",\"deer\",\"degree\",\"design\",\"desire\",\"desk\",\"destruction\",\"detail\",\"development\",\"digestion\",\"dime\",\"dinner\",\"dinosaurs\",\"direction\",\"dirt\",\"discovery\",\"discussion\",\"distance\",\"distribution\",\"division\",\"dock\",\"doctor\",\"dog\",\"dogs\",\"doll\",\"dolls\",\"donkey\",\"door\",\"downtown\",\"drain\",\"drawer\",\"dress\",\"drink\",\"driving\",\"drop\",\"duck\",\"ducks\",\"dust\",\"ear\",\"earth\",\"earthquake\",\"edge\",\"education\",\"effect\",\"egg\",\"eggnog\",\"eggs\",\"elbow\",\"end\",\"engine\",\"error\",\"event\",\"example\",\"exchange\",\"existence\",\"expansion\",\"experience\",\"expert\",\"eye\",\"eyes\",\"face\",\"fact\",\"fairies\",\"fall\",\"fang\",\"farm\",\"fear\",\"feeling\",\"field\",\"finger\",\"finger\",\"fire\",\"fireman\",\"fish\",\"flag\",\"flame\",\"flavor\",\"flesh\",\"flight\",\"flock\",\"floor\",\"flower\",\"flowers\",\"fly\",\"fog\",\"fold\",\"food\",\"foot\",\"force\",\"fork\",\"form\",\"fowl\",\"frame\",\"friction\",\"friend\",\"friends\",\"frog\",\"frogs\",\"front\",\"fruit\",\"fuel\",\"furniture\",\"gate\",\"geese\",\"ghost\",\"giants\",\"giraffe\",\"girl\",\"girls\",\"glass\",\"glove\",\"gold\",\"government\",\"governor\",\"grade\",\"grain\",\"grandfather\",\"grandmother\",\"grape\",\"grass\",\"grip\",\"ground\",\"group\",\"growth\",\"guide\",\"guitar\",\"gun\",\"hair\",\"haircut\",\"hall\",\"hammer\",\"hand\",\"hands\",\"harbor\",\"harmony\",\"hat\",\"hate\",\"head\",\"health\",\"heat\",\"hill\",\"history\",\"hobbies\",\"hole\",\"holiday\",\"home\",\"honey\",\"hook\",\"hope\",\"horn\",\"horse\",\"horses\",\"hose\",\"hospital\",\"hot\",\"hour\",\"house\",\"houses\",\"humor\",\"hydrant\",\"ice\",\"icicle\",\"idea\",\"impulse\",\"income\",\"increase\",\"industry\",\"ink\",\"insect\",\"instrument\",\"insurance\",\"interest\",\"invention\",\"iron\",\"island\",\"jail\",\"jam\",\"jar\",\"jeans\",\"jelly\",\"jellyfish\",\"jewel\",\"join\",\"judge\",\"juice\",\"jump\",\"kettle\",\"key\",\"kick\",\"kiss\",\"kittens\",\"kitty\",\"knee\",\"knife\",\"knot\",\"knowledge\",\"laborer\",\"lace\",\"ladybug\",\"lake\",\"lamp\",\"land\",\"language\",\"laugh\",\"leather\",\"leg\",\"legs\",\"letter\",\"letters\",\"lettuce\",\"level\",\"library\",\"limit\",\"line\",\"linen\",\"lip\",\"liquid\",\"loaf\",\"lock\",\"locket\",\"look\",\"loss\",\"love\",\"low\",\"lumber\",\"lunch\",\"lunchroom\",\"machine\",\"magic\",\"maid\",\"mailbox\",\"man\",\"marble\",\"mark\",\"market\",\"mask\",\"mass\",\"match\",\"meal\",\"measure\",\"meat\",\"meeting\",\"memory\",\"men\",\"metal\",\"mice\",\"middle\",\"milk\",\"mind\",\"mine\",\"minister\",\"mint\",\"minute\",\"mist\",\"mitten\",\"mom\",\"money\",\"monkey\",\"month\",\"moon\",\"morning\",\"mother\",\"motion\",\"mountain\",\"mouth\",\"move\",\"muscle\",\"name\",\"nation\",\"neck\",\"need\",\"needle\",\"nerve\",\"nest\",\"night\",\"noise\",\"north\",\"nose\",\"note\",\"notebook\",\"number\",\"nut\",\"oatmeal\",\"observation\",\"ocean\",\"offer\",\"office\",\"oil\",\"orange\",\"oranges\",\"order\",\"oven\",\"page\",\"pail\",\"pan\",\"pancake\",\"paper\",\"parcel\",\"part\",\"partner\",\"party\",\"passenger\",\"payment\",\"peace\",\"pear\",\"pen\",\"pencil\",\"person\",\"pest\",\"pet\",\"pets\",\"pickle\",\"picture\",\"pie\",\"pies\",\"pig\",\"pigs\",\"pin\",\"pipe\",\"pizzas\",\"place\",\"plane\",\"planes\",\"plant\",\"plantation\",\"plants\",\"plastic\",\"plate\",\"play\",\"playground\",\"pleasure\",\"plot\",\"plough\",\"pocket\",\"point\",\"poison\",\"pollution\",\"popcorn\",\"porter\",\"position\",\"pot\",\"potato\",\"powder\",\"power\",\"price\",\"produce\",\"profit\",\"property\",\"prose\",\"protest\",\"pull\",\"pump\",\"punishment\",\"purpose\",\"push\",\"quarter\",\"quartz\",\"queen\",\"question\",\"quicksand\",\"quiet\",\"quill\",\"quilt\",\"quince\",\"quiver\",\"rabbit\",\"rabbits\",\"rail\",\"railway\",\"rain\",\"rainstorm\",\"rake\",\"range\",\"rat\",\"rate\",\"ray\",\"reaction\",\"reading\",\"reason\",\"receipt\",\"recess\",\"record\",\"regret\",\"relation\",\"religion\",\"representative\",\"request\",\"respect\",\"rest\",\"reward\",\"rhythm\",\"rice\",\"riddle\",\"rifle\",\"ring\",\"rings\",\"river\",\"road\",\"robin\",\"rock\",\"rod\",\"roll\",\"roof\",\"room\",\"root\",\"rose\",\"route\",\"rub\",\"rule\",\"run\",\"sack\",\"sail\",\"salt\",\"sand\",\"scale\",\"scarecrow\",\"scarf\",\"scene\",\"scent\",\"school\",\"science\",\"scissors\",\"screw\",\"sea\",\"seashore\",\"seat\",\"secretary\",\"seed\",\"selection\",\"self\",\"sense\",\"servant\",\"shade\",\"shake\",\"shame\",\"shape\",\"sheep\",\"sheet\",\"shelf\",\"ship\",\"shirt\",\"shock\",\"shoe\",\"shoes\",\"shop\",\"show\",\"side\",\"sidewalk\",\"sign\",\"silk\",\"silver\",\"sink\",\"sister\",\"sisters\",\"size\",\"skate\",\"skin\",\"skirt\",\"sky\",\"slave\",\"sleep\",\"sleet\",\"slip\",\"slope\",\"smash\",\"smell\",\"smile\",\"smoke\",\"snail\",\"snails\",\"snake\",\"snakes\",\"sneeze\",\"snow\",\"soap\",\"society\",\"sock\",\"soda\",\"sofa\",\"son\",\"song\",\"songs\",\"sort\",\"sound\",\"soup\",\"space\",\"spade\",\"spark\",\"spiders\",\"sponge\",\"spoon\",\"spot\",\"spring\",\"spy\",\"square\",\"squirrel\",\"stage\",\"stamp\",\"star\",\"start\",\"statement\",\"station\",\"steam\",\"steel\",\"stem\",\"step\",\"stew\",\"stick\",\"sticks\",\"stitch\",\"stocking\",\"stomach\",\"stone\",\"stop\",\"store\",\"story\",\"stove\",\"stranger\",\"straw\",\"stream\",\"street\",\"stretch\",\"string\",\"structure\",\"substance\",\"sugar\",\"suggestion\",\"suit\",\"summer\",\"sun\",\"support\",\"surprise\",\"sweater\",\"swim\",\"swing\",\"system\",\"table\",\"tail\",\"talk\",\"tank\",\"taste\",\"tax\",\"teaching\",\"team\",\"teeth\",\"temper\",\"tendency\",\"tent\",\"territory\",\"test\",\"texture\",\"theory\",\"thing\",\"things\",\"thought\",\"thread\",\"thrill\",\"throat\",\"throne\",\"thumb\",\"thunder\",\"ticket\",\"tiger\",\"time\",\"tin\",\"title\",\"toad\",\"toe\",\"toes\",\"tomatoes\",\"tongue\",\"tooth\",\"toothbrush\",\"toothpaste\",\"top\",\"touch\",\"town\",\"toy\",\"toys\",\"trade\",\"trail\",\"train\",\"trains\",\"tramp\",\"transport\",\"tray\",\"treatment\",\"tree\",\"trees\",\"trick\",\"trip\",\"trouble\",\"trousers\",\"truck\",\"trucks\",\"tub\",\"turkey\",\"turn\",\"twig\",\"twist\",\"umbrella\",\"uncle\",\"underwear\",\"unit\",\"use\",\"vacation\",\"value\",\"van\",\"vase\",\"vegetable\",\"veil\",\"vein\",\"verse\",\"vessel\",\"vest\",\"view\",\"visitor\",\"voice\",\"volcano\",\"volleyball\",\"voyage\",\"walk\",\"wall\",\"war\",\"wash\",\"waste\",\"watch\",\"water\",\"wave\",\"waves\",\"wax\",\"way\",\"wealth\",\"weather\",\"week\",\"weight\",\"wheel\",\"whip\",\"whistle\",\"wilderness\",\"wind\",\"window\",\"wine\",\"wing\",\"winter\",\"wire\",\"wish\",\"woman\",\"women\",\"wood\",\"wool\",\"word\",\"work\",\"worm\",\"wound\",\"wren\",\"wrench\",\"wrist\",\"writer\",\"writing\",\"yak\",\"yam\",\"yard\",\"yarn\",\"year\",\"yoke\",\"zebra\",\"zephyr\",\"zinc\",\"zipper\",\"zoo\",\"accept\",\"add\",\"admire\",\"admit\",\"advise\",\"afford\",\"agree\",\"alert\",\"allow\",\"amuse\",\"analyse\",\"announce\",\"annoy\",\"answer\",\"apologise\",\"appear\",\"applaud\",\"appreciate\",\"approve\",\"argue\",\"arrange\",\"arrest\",\"arrive\",\"ask\",\"attach\",\"attack\",\"attempt\",\"attend\",\"attract\",\"avoid\",\"back\",\"bake\",\"balance\",\"ban\",\"bang\",\"bare\",\"bat\",\"bathe\",\"battle\",\"beam\",\"beg\",\"behave\",\"belong\",\"bleach\",\"bless\",\"blind\",\"blink\",\"blot\",\"blush\",\"boast\",\"boil\",\"bolt\",\"bomb\",\"book\",\"bore\",\"borrow\",\"bounce\",\"bow\",\"box\",\"brake\",\"branch\",\"breathe\",\"bruise\",\"brush\",\"bubble\",\"bump\",\"burn\",\"bury\",\"buzz\",\"calculate\",\"call\",\"camp\",\"care\",\"carry\",\"carve\",\"cause\",\"challenge\",\"change\",\"charge\",\"chase\",\"cheat\",\"check\",\"cheer\",\"chew\",\"choke\",\"chop\",\"claim\",\"clap\",\"clean\",\"clear\",\"clip\",\"close\",\"coach\",\"coil\",\"collect\",\"colour\",\"comb\",\"command\",\"communicate\",\"compare\",\"compete\",\"complain\",\"complete\",\"concentrate\",\"concern\",\"confess\",\"confuse\",\"connect\",\"consider\",\"consist\",\"contain\",\"continue\",\"copy\",\"correct\",\"cough\",\"count\",\"cover\",\"crack\",\"crash\",\"crawl\",\"cross\",\"crush\",\"cry\",\"cure\",\"curl\",\"curve\",\"cycle\",\"dam\",\"damage\",\"dance\",\"dare\",\"decay\",\"deceive\",\"decide\",\"decorate\",\"delay\",\"delight\",\"deliver\",\"depend\",\"describe\",\"desert\",\"deserve\",\"destroy\",\"detect\",\"develop\",\"disagree\",\"disappear\",\"disapprove\",\"disarm\",\"discover\",\"dislike\",\"divide\",\"double\",\"doubt\",\"drag\",\"drain\",\"dream\",\"dress\",\"drip\",\"drop\",\"drown\",\"drum\",\"dry\",\"dust\",\"earn\",\"educate\",\"embarrass\",\"employ\",\"empty\",\"encourage\",\"end\",\"enjoy\",\"enter\",\"entertain\",\"escape\",\"examine\",\"excite\",\"excuse\",\"exercise\",\"exist\",\"expand\",\"expect\",\"explain\",\"explode\",\"extend\",\"face\",\"fade\",\"fail\",\"fancy\",\"fasten\",\"fax\",\"fear\",\"fence\",\"fetch\",\"file\",\"fill\",\"film\",\"fire\",\"fit\",\"fix\",\"flap\",\"flash\",\"float\",\"flood\",\"flow\",\"flower\",\"fold\",\"follow\",\"fool\",\"force\",\"form\",\"found\",\"frame\",\"frighten\",\"fry\",\"gather\",\"gaze\",\"glow\",\"glue\",\"grab\",\"grate\",\"grease\",\"greet\",\"grin\",\"grip\",\"groan\",\"guarantee\",\"guard\",\"guess\",\"guide\",\"hammer\",\"hand\",\"handle\",\"hang\",\"happen\",\"harass\",\"harm\",\"hate\",\"haunt\",\"head\",\"heal\",\"heap\",\"heat\",\"help\",\"hook\",\"hop\",\"hope\",\"hover\",\"hug\",\"hum\",\"hunt\",\"hurry\",\"identify\",\"ignore\",\"imagine\",\"impress\",\"improve\",\"include\",\"increase\",\"influence\",\"inform\",\"inject\",\"injure\",\"instruct\",\"intend\",\"interest\",\"interfere\",\"interrupt\",\"introduce\",\"invent\",\"invite\",\"irritate\",\"itch\",\"jail\",\"jam\",\"jog\",\"join\",\"joke\",\"judge\",\"juggle\",\"jump\",\"kick\",\"kill\",\"kiss\",\"kneel\",\"knit\",\"knock\",\"knot\",\"label\",\"land\",\"last\",\"laugh\",\"launch\",\"learn\",\"level\",\"license\",\"lick\",\"lie\",\"lighten\",\"like\",\"list\",\"listen\",\"live\",\"load\",\"lock\",\"long\",\"look\",\"love\",\"man\",\"manage\",\"march\",\"mark\",\"marry\",\"match\",\"mate\",\"matter\",\"measure\",\"meddle\",\"melt\",\"memorise\",\"mend\",\"mess up\",\"milk\",\"mine\",\"miss\",\"mix\",\"moan\",\"moor\",\"mourn\",\"move\",\"muddle\",\"mug\",\"multiply\",\"murder\",\"nail\",\"name\",\"need\",\"nest\",\"nod\",\"note\",\"notice\",\"number\",\"obey\",\"object\",\"observe\",\"obtain\",\"occur\",\"offend\",\"offer\",\"open\",\"order\",\"overflow\",\"owe\",\"own\",\"pack\",\"paddle\",\"paint\",\"park\",\"part\",\"pass\",\"paste\",\"pat\",\"pause\",\"peck\",\"pedal\",\"peel\",\"peep\",\"perform\",\"permit\",\"phone\",\"pick\",\"pinch\",\"pine\",\"place\",\"plan\",\"plant\",\"play\",\"please\",\"plug\",\"point\",\"poke\",\"polish\",\"pop\",\"possess\",\"post\",\"pour\",\"practise\",\"pray\",\"preach\",\"precede\",\"prefer\",\"prepare\",\"present\",\"preserve\",\"press\",\"pretend\",\"prevent\",\"prick\",\"print\",\"produce\",\"program\",\"promise\",\"protect\",\"provide\",\"pull\",\"pump\",\"punch\",\"puncture\",\"punish\",\"push\",\"question\",\"queue\",\"race\",\"radiate\",\"rain\",\"raise\",\"reach\",\"realise\",\"receive\",\"recognise\",\"record\",\"reduce\",\"reflect\",\"refuse\",\"regret\",\"reign\",\"reject\",\"rejoice\",\"relax\",\"release\",\"rely\",\"remain\",\"remember\",\"remind\",\"remove\",\"repair\",\"repeat\",\"replace\",\"reply\",\"report\",\"reproduce\",\"request\",\"rescue\",\"retire\",\"return\",\"rhyme\",\"rinse\",\"risk\",\"rob\",\"rock\",\"roll\",\"rot\",\"rub\",\"ruin\",\"rule\",\"rush\",\"sack\",\"sail\",\"satisfy\",\"save\",\"saw\",\"scare\",\"scatter\",\"scold\",\"scorch\",\"scrape\",\"scratch\",\"scream\",\"screw\",\"scribble\",\"scrub\",\"seal\",\"search\",\"separate\",\"serve\",\"settle\",\"shade\",\"share\",\"shave\",\"shelter\",\"shiver\",\"shock\",\"shop\",\"shrug\",\"sigh\",\"sign\",\"signal\",\"sin\",\"sip\",\"ski\",\"skip\",\"slap\",\"slip\",\"slow\",\"smash\",\"smell\",\"smile\",\"smoke\",\"snatch\",\"sneeze\",\"sniff\",\"snore\",\"snow\",\"soak\",\"soothe\",\"sound\",\"spare\",\"spark\",\"sparkle\",\"spell\",\"spill\",\"spoil\",\"spot\",\"spray\",\"sprout\",\"squash\",\"squeak\",\"squeal\",\"squeeze\",\"stain\",\"stamp\",\"stare\",\"start\",\"stay\",\"steer\",\"step\",\"stir\",\"stitch\",\"stop\",\"store\",\"strap\",\"strengthen\",\"stretch\",\"strip\",\"stroke\",\"stuff\",\"subtract\",\"succeed\",\"suck\",\"suffer\",\"suggest\",\"suit\",\"supply\",\"support\",\"suppose\",\"surprise\",\"surround\",\"suspect\",\"suspend\",\"switch\",\"talk\",\"tame\",\"tap\",\"taste\",\"tease\",\"telephone\",\"tempt\",\"terrify\",\"test\",\"thank\",\"thaw\",\"tick\",\"tickle\",\"tie\",\"time\",\"tip\",\"tire\",\"touch\",\"tour\",\"tow\",\"trace\",\"trade\",\"train\",\"transport\",\"trap\",\"travel\",\"treat\",\"tremble\",\"trick\",\"trip\",\"trot\",\"trouble\",\"trust\",\"try\",\"tug\",\"tumble\",\"turn\",\"twist\",\"type\",\"undress\",\"unfasten\",\"unite\",\"unlock\",\"unpack\",\"untidy\",\"use\",\"vanish\",\"visit\",\"wail\",\"wait\",\"walk\",\"wander\",\"want\",\"warm\",\"warn\",\"wash\",\"waste\",\"watch\",\"water\",\"wave\",\"weigh\",\"welcome\",\"whine\",\"whip\",\"whirl\",\"whisper\",\"whistle\",\"wink\",\"wipe\",\"wish\",\"wobble\",\"wonder\",\"work\",\"worry\",\"wrap\",\"wreck\",\"wrestle\",\"wriggle\",\"x-ray\",\"yawn\",\"yell\",\"zip\",\"zoom\"]"
      ]
    },
    {
      "cell_type": "code",
      "execution_count": null,
      "metadata": {
        "colab": {
          "base_uri": "https://localhost:8080/"
        },
        "id": "e8tLepk9IIQP",
        "outputId": "58264644-c9d4-4003-cb50-3ff756009391"
      },
      "outputs": [
        {
          "name": "stdout",
          "output_type": "stream",
          "text": [
            "Letters used:  \n",
            "Lives Remaining:  8\n",
            "Current word:  - - - -\n",
            "\n",
            "Enter a letter: o\n",
            "Letters used:  O\n",
            "Lives Remaining:  8\n",
            "Current word:  - O - -\n",
            "\n",
            "Enter a letter: p\n",
            "Letters used:  O P\n",
            "Lives Remaining:  7\n",
            "Current word:  - O - -\n",
            "\n",
            "Enter a letter: w\n",
            "Letters used:  W O P\n",
            "Lives Remaining:  6\n",
            "Current word:  - O - -\n",
            "\n",
            "Enter a letter: b\n",
            "Letters used:  W O P B\n",
            "Lives Remaining:  5\n",
            "Current word:  - O - -\n",
            "\n",
            "Enter a letter: s\n",
            "Letters used:  P B W O S\n",
            "Lives Remaining:  5\n",
            "Current word:  S O - -\n",
            "\n",
            "Enter a letter: l\n",
            "Letters used:  P L B W O S\n",
            "Lives Remaining:  4\n",
            "Current word:  S O - -\n",
            "\n",
            "Enter a letter: d\n",
            "Letters used:  P L D B W O S\n",
            "Lives Remaining:  3\n",
            "Current word:  S O - -\n",
            "\n",
            "Enter a letter: e\n",
            "Letters used:  P L D B E W O S\n",
            "Lives Remaining:  2\n",
            "Current word:  S O - -\n",
            "\n",
            "Enter a letter: r\n",
            "Letters used:  P L R D B E W O S\n",
            "Lives Remaining:  1\n",
            "Current word:  S O - -\n",
            "\n",
            "Enter a letter: w\n",
            "\n",
            "You have already used that character. Please try again.\n",
            "Letters used:  P L R D B E W O S\n",
            "Lives Remaining:  1\n",
            "Current word:  S O - -\n",
            "\n",
            "Enter a letter: e\n",
            "\n",
            "You have already used that character. Please try again.\n",
            "Letters used:  P L R D B E W O S\n",
            "Lives Remaining:  1\n",
            "Current word:  S O - -\n",
            "\n",
            "Enter a letter: c\n",
            "You died the word was: SOFT\n"
          ]
        }
      ],
      "source": [
        "import random\n",
        "import string\n",
        "def get_correct_word(words):\n",
        "  word = random.choice(words) # choosing a random word from the list \"words\"\n",
        "\n",
        "  while \"-\" in word or \" \" in word:  # loop to choose a word that doesn't contain \"-\" or \" \" blank spaces.\n",
        "    word = random.choice(words)\n",
        "\n",
        "  return word.upper()\n",
        "\n",
        "\n",
        "def hangman():\n",
        "  word = get_correct_word(words) #get that random word\n",
        "  word_letters = set(word) # letters in the word or converted that words into separate letters\n",
        "  alphabet = set(string.ascii_uppercase)   #got all the UpperCase alphabets\n",
        "  used_letters = set() # what the user has guessed\n",
        "  lives = 8\n",
        "\n",
        "  while len(word_letters) > 0 and lives > 0:\n",
        "\n",
        "    print(\"Letters used: \", \" \".join(used_letters))\n",
        "    print(\"Lives Remaining: \", lives)\n",
        "\n",
        "    word_list = [letter if letter in used_letters else \"-\" for letter in word]\n",
        "    print(\"Current word: \", \" \".join(word_list))\n",
        "\n",
        "    # taking input with some logic applied to it after.\n",
        "    user_input_letter = input(\"\\nEnter a letter: \").upper()\n",
        "    if user_input_letter in alphabet - used_letters: # if the user input letter is in the alphabets list (after deducting used letters in it) add that letter into the used letters set\n",
        "      used_letters.add(user_input_letter)\n",
        "\n",
        "      if user_input_letter in word_letters:  # if that letter is also in the words remove that letter from the word.\n",
        "        word_letters.remove(user_input_letter)\n",
        "      else:\n",
        "        lives -= 1\n",
        "\n",
        "\n",
        "    elif user_input_letter in used_letters:\n",
        "      print(\"\\nYou have already used that character. Please try again.\")\n",
        "\n",
        "    else:\n",
        "      print(\"\\nInvalid character. Please try again.\")\n",
        "\n",
        "\n",
        "  if lives == 0:\n",
        "    print(f\"You died the word was: {word}\")\n",
        "  else:\n",
        "    print(f\"You guessed the word: {word}\")\n",
        "\n",
        "hangman()\n"
      ]
    },
    {
      "cell_type": "markdown",
      "metadata": {
        "id": "Z5vt7oCiJExJ"
      },
      "source": [
        "# **6. Countdown Timer Python Project**"
      ]
    },
    {
      "cell_type": "code",
      "execution_count": null,
      "metadata": {
        "id": "RLwZvRqwJKbJ"
      },
      "outputs": [],
      "source": [
        "import time\n",
        "from IPython.display import clear_output  # Import clear_output\n",
        "\n",
        "def countdown(t):\n",
        "    while t:\n",
        "        mins, secs = divmod(t, 60)\n",
        "        timer = '{:02d}:{:02d}'.format(mins, secs)\n",
        "        clear_output(wait=True)\n",
        "        print(timer)\n",
        "        time.sleep(1)\n",
        "        t -= 1\n",
        "    print(\"Timer Complete\")\n",
        "\n",
        "countdown(10)"
      ]
    },
    {
      "cell_type": "markdown",
      "metadata": {
        "id": "plCSnN3wJRd7"
      },
      "source": [
        "# **7. Password Generator**"
      ]
    },
    {
      "cell_type": "code",
      "execution_count": null,
      "metadata": {
        "id": "zT63DZdoJXOe"
      },
      "outputs": [],
      "source": [
        "def password_genertor():\n",
        "  characters_to_select = 'abcdefghijklmnopqrstuvwxyzABCDEFGHIJKLMNOPQRSTUVWXYZ1234567890!@#$%^&*()'\n",
        "\n",
        "  number_of_passwords = int(input(\"Enter, how many passwords you want: \"))\n",
        "  each_password_length =int(input(\"Enter the length of each password: \"))\n",
        "\n",
        "  for _ in range(number_of_passwords):\n",
        "    password = ''\n",
        "    for _ in range(each_password_length):\n",
        "      password += random.choice(characters_to_select)\n",
        "    print(password)\n",
        "\n",
        "password_genertor()"
      ]
    },
    {
      "cell_type": "markdown",
      "metadata": {
        "id": "X8XoIrcMJfh_"
      },
      "source": [
        "# **8. QR code encoder / decoder**"
      ]
    },
    {
      "cell_type": "code",
      "execution_count": null,
      "metadata": {
        "colab": {
          "base_uri": "https://localhost:8080/"
        },
        "id": "shmZjuraJi-U",
        "outputId": "f5ac2f02-7fad-4608-df27-e873c0ab661c"
      },
      "outputs": [
        {
          "ename": "",
          "evalue": "",
          "output_type": "error",
          "traceback": [
            "\u001b[1;31mRunning cells with 'Python 3.13.2' requires the ipykernel package.\n",
            "\u001b[1;31m<a href='command:jupyter.createPythonEnvAndSelectController'>Create a Python Environment</a> with the required packages.\n",
            "\u001b[1;31mOr install 'ipykernel' using the command: 'c:/Users/DELL/AppData/Local/Programs/Python/Python313/python.exe -m pip install ipykernel -U --user --force-reinstall'"
          ]
        }
      ],
      "source": [
        "!pip install qrcode"
      ]
    },
    {
      "cell_type": "code",
      "execution_count": null,
      "metadata": {
        "id": "Gb-EZhfGJ5rJ"
      },
      "outputs": [],
      "source": [
        "import qrcode\n",
        "\n",
        "data = \"this is DATA 😎\"\n",
        "\n",
        "img = qrcode.make(data)\n",
        "img.save(\"qr.png\")"
      ]
    },
    {
      "cell_type": "markdown",
      "metadata": {
        "id": "_fM2zGkvL-Z9"
      },
      "source": [
        "# **9 & 10. Tic-Tac-Toe & Tic-Tac-Toe AI**"
      ]
    },
    {
      "cell_type": "code",
      "execution_count": null,
      "metadata": {
        "id": "X6-FMusnMCqf"
      },
      "outputs": [],
      "source": [
        "import math\n",
        "\n",
        "import random\n",
        "\n",
        "class Player:\n",
        "  def __init__(self, letter):\n",
        "    # to initialize the letter either x or O\n",
        "    self.letter = letter\n",
        "\n",
        "  def get_move(self, game):\n",
        "    pass\n",
        "\n",
        "class RandomComputerPlayer(Player):\n",
        "  def __init__(self, letter):\n",
        "    super().__init__(letter)\n",
        "\n",
        "\n",
        "  def get_move(self, game):\n",
        "    square = random.choice(game.available_moves())\n",
        "    return square\n",
        "\n",
        "\n",
        "class HumanPlayer(Player):\n",
        "  def __init__(self, letter):\n",
        "    super().__init__(letter)\n",
        "\n",
        "  def get_move(self, game):\n",
        "    valid_square = False\n",
        "    val = None\n",
        "    while not valid_square:\n",
        "      square = input(self.letter + \"'s turn. Input move (0-8): \")\n",
        "\n",
        "      try:\n",
        "        val = int(square)\n",
        "        if val not in game.available_moves():\n",
        "          raise ValueError\n",
        "        valid_square = True\n",
        "      except ValueError:\n",
        "        print(\"Invalid square. Try again.\")\n",
        "\n",
        "    return val\n",
        "\n",
        "\n",
        "\n",
        "class SmartComputerPlayer(Player):\n",
        "    def __init__(self, letter):\n",
        "        super().__init__(letter)\n",
        "\n",
        "    def get_move(self, game):\n",
        "        if len(game.available_moves()) == 9:\n",
        "            square = random.choice(game.available_moves())\n",
        "        else:\n",
        "            square = self.minimax(game, self.letter)['position']\n",
        "        return square\n",
        "\n",
        "    def minimax(self, state, player):\n",
        "        max_player = self.letter  # yourself\n",
        "        other_player = 'O' if player == 'X' else 'X'\n",
        "\n",
        "        # first we want to check if the previous move is a winner\n",
        "        if state.current_winner == other_player:\n",
        "            return {'position': None, 'score': 1 * (state.num_empty_squares() + 1) if other_player == max_player else -1 * (\n",
        "                        state.num_empty_squares() + 1)}\n",
        "        elif not state.empty_squares():\n",
        "            return {'position': None, 'score': 0}\n",
        "\n",
        "        if player == max_player:\n",
        "            best = {'position': None, 'score': -math.inf}  # each score should maximize\n",
        "        else:\n",
        "            best = {'position': None, 'score': math.inf}  # each score should minimize\n",
        "\n",
        "        for possible_move in state.available_moves():\n",
        "            state.make_move(possible_move, player)\n",
        "            sim_score = self.minimax(state, other_player)  # simulate a game after making that move\n",
        "\n",
        "            # undo move\n",
        "            state.board[possible_move] = ' '\n",
        "            state.current_winner = None\n",
        "            sim_score['position'] = possible_move  # this represents the move optimal next move\n",
        "\n",
        "            if player == max_player:  # X is max player\n",
        "                if sim_score['score'] > best['score']:\n",
        "                    best = sim_score\n",
        "            else:\n",
        "                if sim_score['score'] < best['score']:\n",
        "                    best = sim_score\n",
        "        return best\n"
      ]
    },
    {
      "cell_type": "code",
      "execution_count": null,
      "metadata": {
        "colab": {
          "base_uri": "https://localhost:8080/"
        },
        "id": "qm6M2aGeQ2GL",
        "outputId": "d42b4f28-1d87-4194-e20f-39a43d928159"
      },
      "outputs": [
        {
          "name": "stdout",
          "output_type": "stream",
          "text": [
            "|0|1|2|\n",
            "|3|4|5|\n",
            "|6|7|8|\n",
            "X's turn. Input move (0-8): 4\n",
            "X makes a move to square 4\n",
            "| | | |\n",
            "| |X| |\n",
            "| | | |\n",
            "\n",
            "O makes a move to square 0\n",
            "|O| | |\n",
            "| |X| |\n",
            "| | | |\n",
            "\n",
            "X's turn. Input move (0-8): 6\n",
            "X makes a move to square 6\n",
            "|O| | |\n",
            "| |X| |\n",
            "|X| | |\n",
            "\n",
            "O makes a move to square 2\n",
            "|O| |O|\n",
            "| |X| |\n",
            "|X| | |\n",
            "\n",
            "X's turn. Input move (0-8): 1\n",
            "X makes a move to square 1\n",
            "|O|X|O|\n",
            "| |X| |\n",
            "|X| | |\n",
            "\n",
            "O makes a move to square 7\n",
            "|O|X|O|\n",
            "| |X| |\n",
            "|X|O| |\n",
            "\n",
            "X's turn. Input move (0-8): 5\n",
            "X makes a move to square 5\n",
            "|O|X|O|\n",
            "| |X|X|\n",
            "|X|O| |\n",
            "\n",
            "O makes a move to square 3\n",
            "|O|X|O|\n",
            "|O|X|X|\n",
            "|X|O| |\n",
            "\n",
            "X's turn. Input move (0-8): 5\n",
            "Invalid square. Try again.\n",
            "X's turn. Input move (0-8): 8\n",
            "X makes a move to square 8\n",
            "|O|X|O|\n",
            "|O|X|X|\n",
            "|X|O|X|\n",
            "\n",
            "It's a tie!\n"
          ]
        }
      ],
      "source": [
        "import time\n",
        "\n",
        "class TicTacToe:\n",
        "  def __init__(self):\n",
        "    self.board = [\" \" for _ in range(9)]\n",
        "    self.current_winner = None\n",
        "\n",
        "  def print_board(self):\n",
        "    for row in [self.board[i * 3: (i + 1) * 3] for i in range(3)]:\n",
        "      print(\"|\" + \"|\".join(row) + \"|\")\n",
        "\n",
        "\n",
        "  @staticmethod\n",
        "  def print_board_nums():\n",
        "    number_board = [[str(i) for i in range(j * 3 , (j +1) *3)] for j in range(3)]\n",
        "    for row in number_board:\n",
        "      print(\"|\" + \"|\".join(row) + \"|\")\n",
        "\n",
        "  def available_moves(self):\n",
        "    moves = []\n",
        "    for (i, spot) in enumerate(self.board):\n",
        "      if spot == \" \":\n",
        "        moves.append(i)\n",
        "    return moves\n",
        "\n",
        "\n",
        "  def empty_squares(self):\n",
        "    return \" \" in self.board\n",
        "\n",
        "  def num_empty_squares(self):\n",
        "    return self.board.count(\" \")\n",
        "\n",
        "  def make_move(self,square, letter):\n",
        "    if self.board[square] == \" \":\n",
        "      self.board[square] = letter\n",
        "      if self.winner(square, letter):\n",
        "        self.current_winner = letter\n",
        "      return True\n",
        "    return False\n",
        "\n",
        "  def winner(self, square, letter):\n",
        "\n",
        "    row_ind = square // 3\n",
        "    row = self.board[row_ind * 3: (row_ind + 1) * 3]\n",
        "    if all([spot == letter for spot in row]):\n",
        "      return True\n",
        "\n",
        "\n",
        "    col_ind = square % 3\n",
        "    column = [self.board[col_ind + i *3 ] for i in range(3)]\n",
        "    if all([spot == letter for spot in column]):\n",
        "      return True\n",
        "\n",
        "\n",
        "    if square % 2 == 0:\n",
        "      diagonal1 =  [self.board[i] for i in [0, 4, 8]]\n",
        "      if all([spot == letter for spot in diagonal1]):\n",
        "        return True\n",
        "\n",
        "      diagonal2 =  [self.board[i] for i in [2, 4, 6]]\n",
        "      if all([spot == letter for spot in diagonal2]):\n",
        "        return True\n",
        "\n",
        "    return False\n",
        "\n",
        "\n",
        "\n",
        "\n",
        "def play(game, x_player, o_player, print_game=True):\n",
        "\n",
        "    if print_game:\n",
        "        game.print_board_nums()\n",
        "\n",
        "    letter = 'X'\n",
        "    while game.empty_squares():\n",
        "        if letter == 'O':\n",
        "            square = o_player.get_move(game)\n",
        "        else:\n",
        "            square = x_player.get_move(game)\n",
        "        if game.make_move(square, letter):\n",
        "\n",
        "            if print_game:\n",
        "                print(letter + ' makes a move to square {}'.format(square))\n",
        "                game.print_board()\n",
        "                print('')\n",
        "\n",
        "            if game.current_winner:\n",
        "                if print_game:\n",
        "                    print(letter + ' wins!')\n",
        "                return letter  # ends the loop and exits the game\n",
        "            letter = 'O' if letter == 'X' else 'X'  # switches player\n",
        "\n",
        "        time.sleep(.8)\n",
        "\n",
        "    if print_game:\n",
        "        print('It\\'s a tie!')\n",
        "\n",
        "\n",
        "\n",
        "\n",
        "if __name__ == \"__main__\":\n",
        "  x_player = HumanPlayer(\"X\")\n",
        "  o_player = SmartComputerPlayer(\"O\")\n",
        "  t = TicTacToe()\n",
        "  play(t, x_player, o_player, print_game=True)"
      ]
    },
    {
      "cell_type": "markdown",
      "metadata": {
        "id": "ZJyCJZ2XuNRG"
      },
      "source": [
        "# **11. Binary Search**"
      ]
    },
    {
      "cell_type": "code",
      "execution_count": null,
      "metadata": {
        "colab": {
          "base_uri": "https://localhost:8080/"
        },
        "id": "O9vXxou0uTVC",
        "outputId": "c54e6cee-0f0d-4c99-d36b-e04d144138e2"
      },
      "outputs": [
        {
          "name": "stdout",
          "output_type": "stream",
          "text": [
            "10\n"
          ]
        }
      ],
      "source": [
        "# VISUAL (Streamlit) VERSION IN \"binary_search\" DIRECTORY\n",
        "\n",
        "\n",
        "def binary_search(lst: list, target: int, low=None, high=None):\n",
        "  if low is None:\n",
        "    low = 0\n",
        "\n",
        "  if high is None:\n",
        "    high = len(lst) -1\n",
        "\n",
        "  mid_point = (low + high) // 2\n",
        "\n",
        "  if low > high:\n",
        "    return -1\n",
        "\n",
        "\n",
        "  if target == lst[mid_point]:\n",
        "    return mid_point # which will be the index of that value\n",
        "\n",
        "  if target < lst[mid_point]:    #if the target is less than the mid point\n",
        "    return binary_search(lst, target, low, mid_point - 1)\n",
        "  else:\n",
        "     return binary_search(lst, target, mid_point + 1, high)\n",
        "\n",
        "\n",
        "if __name__ == \"__main__\":\n",
        "  l = [1,2 ,3 , 4,5, 6,8, 9, 10, 12, 18, 20]\n",
        "  print(binary_search(l, 18))\n"
      ]
    },
    {
      "cell_type": "markdown",
      "metadata": {
        "id": "cUHgM5R66D1a"
      },
      "source": [
        "# **12. MineSweeper**"
      ]
    },
    {
      "cell_type": "code",
      "execution_count": null,
      "metadata": {
        "colab": {
          "base_uri": "https://localhost:8080/"
        },
        "id": "Qf_9movw6Qio",
        "outputId": "299b09bd-5cc2-43fa-8220-aa6b63bcd238"
      },
      "outputs": [
        {
          "name": "stdout",
          "output_type": "stream",
          "text": [
            "   0  1  2  3  4  5  6  7  8  9  \n",
            "----------------------------------\n",
            "0 |  |  |  |  |  |  |  |  |  |  |\n",
            "1 |  |  |  |  |  |  |  |  |  |  |\n",
            "2 |  |  |  |  |  |  |  |  |  |  |\n",
            "3 |  |  |  |  |  |  |  |  |  |  |\n",
            "4 |  |  |  |  |  |  |  |  |  |  |\n",
            "5 |  |  |  |  |  |  |  |  |  |  |\n",
            "6 |  |  |  |  |  |  |  |  |  |  |\n",
            "7 |  |  |  |  |  |  |  |  |  |  |\n",
            "8 |  |  |  |  |  |  |  |  |  |  |\n",
            "9 |  |  |  |  |  |  |  |  |  |  |\n",
            "----------------------------------\n",
            "Where would you like to dig? Input as row,col: 0,0\n",
            "   0  1  2  3  4  5  6  7  8  9  \n",
            "----------------------------------\n",
            "0 |0 |0 |0 |0 |1 |  |  |  |  |  |\n",
            "1 |0 |0 |0 |1 |2 |  |  |  |  |  |\n",
            "2 |0 |0 |0 |1 |  |  |  |  |  |  |\n",
            "3 |0 |0 |0 |1 |1 |  |  |  |  |  |\n",
            "4 |0 |0 |0 |0 |1 |  |  |  |  |  |\n",
            "5 |1 |1 |2 |2 |3 |  |  |  |  |  |\n",
            "6 |  |  |  |  |  |  |  |  |  |  |\n",
            "7 |  |  |  |  |  |  |  |  |  |  |\n",
            "8 |  |  |  |  |  |  |  |  |  |  |\n",
            "9 |  |  |  |  |  |  |  |  |  |  |\n",
            "----------------------------------\n",
            "Where would you like to dig? Input as row,col: 6,5\n",
            "   0  1  2  3  4  5  6  7  8  9  \n",
            "----------------------------------\n",
            "0 |0 |0 |0 |0 |1 |  |  |  |  |  |\n",
            "1 |0 |0 |0 |1 |2 |  |  |  |  |  |\n",
            "2 |0 |0 |0 |1 |  |  |  |  |  |  |\n",
            "3 |0 |0 |0 |1 |1 |  |  |  |  |  |\n",
            "4 |0 |0 |0 |0 |1 |  |  |  |  |  |\n",
            "5 |1 |1 |2 |2 |3 |  |  |  |  |  |\n",
            "6 |  |  |  |  |  |2 |  |  |  |  |\n",
            "7 |  |  |  |  |  |  |  |  |  |  |\n",
            "8 |  |  |  |  |  |  |  |  |  |  |\n",
            "9 |  |  |  |  |  |  |  |  |  |  |\n",
            "----------------------------------\n",
            "Where would you like to dig? Input as row,col: 5,5\n",
            "SORRY GAME OVER :(\n",
            "   0  1  2  3  4  5  6  7  8  9  \n",
            "----------------------------------\n",
            "0 |0 |0 |0 |0 |1 |1 |2 |* |1 |0 |\n",
            "1 |0 |0 |0 |1 |2 |* |2 |1 |2 |1 |\n",
            "2 |0 |0 |0 |1 |* |2 |1 |0 |1 |* |\n",
            "3 |0 |0 |0 |1 |1 |1 |0 |0 |1 |1 |\n",
            "4 |0 |0 |0 |0 |1 |1 |1 |0 |0 |0 |\n",
            "5 |1 |1 |2 |2 |3 |* |1 |0 |0 |0 |\n",
            "6 |1 |* |2 |* |* |2 |1 |0 |0 |0 |\n",
            "7 |1 |1 |2 |2 |2 |1 |0 |0 |0 |0 |\n",
            "8 |0 |0 |0 |0 |0 |0 |1 |2 |2 |1 |\n",
            "9 |0 |0 |0 |0 |0 |0 |1 |* |* |1 |\n",
            "----------------------------------\n"
          ]
        }
      ],
      "source": [
        "import random\n",
        "import re\n",
        "\n",
        "class Board:\n",
        "    def __init__(self, dim_size, num_bombs):\n",
        "        self.dim_size = dim_size\n",
        "        self.num_bombs = num_bombs\n",
        "\n",
        "        self.board = self.make_new_board() # plant the bombs\n",
        "        self.assign_values_to_board()\n",
        "\n",
        "        self.dug = set() # if we dig at 0, 0, then self.dug = {(0,0)}\n",
        "\n",
        "    def make_new_board(self):\n",
        "        board = [[None for _ in range(self.dim_size)] for _ in range(self.dim_size)]\n",
        "\n",
        "        # plant the bombs\n",
        "        bombs_planted = 0\n",
        "        while bombs_planted < self.num_bombs:\n",
        "            loc = random.randint(0, self.dim_size**2 - 1)\n",
        "            row = loc // self.dim_size\n",
        "            col = loc % self.dim_size\n",
        "\n",
        "            if board[row][col] == '*':\n",
        "              # checks if there is a bomb already there.\n",
        "                continue\n",
        "\n",
        "            board[row][col] = '*' # plant the bomb\n",
        "            bombs_planted += 1\n",
        "\n",
        "        return board\n",
        "\n",
        "    def assign_values_to_board(self):\n",
        "\n",
        "        for r in range(self.dim_size):\n",
        "            for c in range(self.dim_size):\n",
        "                if self.board[r][c] == '*':\n",
        "                  # if there is already a bomb, we are not assigning anything there.\n",
        "                    continue\n",
        "                self.board[r][c] = self.get_num_neighboring_bombs(r, c)\n",
        "\n",
        "    def get_num_neighboring_bombs(self, row, col):\n",
        "      #  checking surrounding squares, to check for neighbouring bomb.\n",
        "      # Also making sure that the values in iteration don't pass the bounds thats wy using \"min and max\"\n",
        "\n",
        "        num_neighboring_bombs = 0\n",
        "        for r in range(max(0, row-1), min(self.dim_size-1, row+1)+1):\n",
        "            for c in range(max(0, col-1), min(self.dim_size-1, col+1)+1):\n",
        "                if r == row and c == col:\n",
        "                    # our original location, don't check\n",
        "                    continue\n",
        "                if self.board[r][c] == '*':\n",
        "                    num_neighboring_bombs += 1\n",
        "\n",
        "        return num_neighboring_bombs\n",
        "\n",
        "    def dig(self, row, col):\n",
        "        # return True if successful dig, False if bomb dug\n",
        "\n",
        "        self.dug.add((row, col)) # keep track that we dug here\n",
        "\n",
        "        if self.board[row][col] == '*':\n",
        "            return False\n",
        "        elif self.board[row][col] > 0:\n",
        "            return True\n",
        "\n",
        "        # self.board[row][col] == 0\n",
        "        for r in range(max(0, row-1), min(self.dim_size-1, row+1)+1):\n",
        "            for c in range(max(0, col-1), min(self.dim_size-1, col+1)+1):\n",
        "                if (r, c) in self.dug:\n",
        "                    continue # don't dig where you've already dug\n",
        "                self.dig(r, c)\n",
        "\n",
        "        # if our initial dig didn't hit a bomb, we *shouldn't* hit a bomb here\n",
        "        return True\n",
        "\n",
        "    def __str__(self):\n",
        "\n",
        "        # first let's create a new array that represents what the user would see\n",
        "        visible_board = [[None for _ in range(self.dim_size)] for _ in range(self.dim_size)]\n",
        "        for row in range(self.dim_size):\n",
        "            for col in range(self.dim_size):\n",
        "                if (row,col) in self.dug:\n",
        "                    visible_board[row][col] = str(self.board[row][col])\n",
        "                else:\n",
        "                    visible_board[row][col] = ' '\n",
        "\n",
        "        # put this together in a string\n",
        "        string_rep = ''\n",
        "        # get max column widths for printing\n",
        "        widths = []\n",
        "        for idx in range(self.dim_size):\n",
        "            columns = map(lambda x: x[idx], visible_board)\n",
        "            widths.append(\n",
        "                len(\n",
        "                    max(columns, key = len)\n",
        "                )\n",
        "            )\n",
        "\n",
        "        # print the csv strings\n",
        "        indices = [i for i in range(self.dim_size)]\n",
        "        indices_row = '   '\n",
        "        cells = []\n",
        "        for idx, col in enumerate(indices):\n",
        "            format = '%-' + str(widths[idx]) + \"s\"\n",
        "            cells.append(format % (col))\n",
        "        indices_row += '  '.join(cells)\n",
        "        indices_row += '  \\n'\n",
        "\n",
        "        for i in range(len(visible_board)):\n",
        "            row = visible_board[i]\n",
        "            string_rep += f'{i} |'\n",
        "            cells = []\n",
        "            for idx, col in enumerate(row):\n",
        "                format = '%-' + str(widths[idx]) + \"s\"\n",
        "                cells.append(format % (col))\n",
        "            string_rep += ' |'.join(cells)\n",
        "            string_rep += ' |\\n'\n",
        "\n",
        "        str_len = int(len(string_rep) / self.dim_size)\n",
        "        string_rep = indices_row + '-'*str_len + '\\n' + string_rep + '-'*str_len\n",
        "\n",
        "        return string_rep\n",
        "\n",
        "def play(dim_size=10, num_bombs=10):\n",
        "    # Step 1: create the board and plant the bombs\n",
        "    board = Board(dim_size, num_bombs)\n",
        "\n",
        "    # Step 2: show the user the board and ask for where they want to dig\n",
        "    # Step 3a: if location is a bomb, show game over message\n",
        "    # Step 3b: if location is not a bomb, dig recursively until each square is at least\n",
        "    #          next to a bomb\n",
        "    # Step 4: repeat steps 2 and 3a/b until there are no more places to dig -> VICTORY!\n",
        "    safe = True\n",
        "\n",
        "    while len(board.dug) < board.dim_size ** 2 - num_bombs:\n",
        "        print(board)\n",
        "        # 0,0 or 0, 0 or 0,    0\n",
        "        user_input = re.split(',(\\\\s)*', input(\"Where would you like to dig? Input as row,col: \"))  # '0, 3'\n",
        "        row, col = int(user_input[0]), int(user_input[-1])\n",
        "        if row < 0 or row >= board.dim_size or col < 0 or col >= dim_size:\n",
        "            print(\"Invalid location. Try again.\")\n",
        "            continue\n",
        "\n",
        "        # if it's valid, we dig\n",
        "        safe = board.dig(row, col)\n",
        "        if not safe:\n",
        "            # dug a bomb ahhhhhhh\n",
        "            break # (game over rip)\n",
        "\n",
        "    # 2 ways to end loop, lets check which one\n",
        "    if safe:\n",
        "        print(\"CONGRATULATIONS!!!! YOU ARE VICTORIOUS!\")\n",
        "    else:\n",
        "        print(\"SORRY GAME OVER :(\")\n",
        "        # let's reveal the whole board!\n",
        "        board.dug = [(r,c) for r in range(board.dim_size) for c in range(board.dim_size)]\n",
        "        print(board)\n",
        "\n",
        "if __name__ == '__main__': # good practice :)\n",
        "    play()"
      ]
    },
    {
      "cell_type": "markdown",
      "metadata": {
        "id": "bcb7SEuuKvbL"
      },
      "source": [
        "# **13. Sudoku Solver**"
      ]
    },
    {
      "cell_type": "code",
      "execution_count": 2,
      "metadata": {
        "colab": {
          "base_uri": "https://localhost:8080/"
        },
        "id": "5nT5-gO8KzIm",
        "outputId": "1691f03b-92e3-4ca9-824c-1f23365ecb56"
      },
      "outputs": [
        {
          "name": "stdout",
          "output_type": "stream",
          "text": [
            "[[5, 3, 4, 6, 7, 8, 9, 1, 2], [6, 7, 2, 1, 9, 5, 3, 4, 8], [1, 9, 8, 3, 4, 2, 5, 6, 7], [8, 5, 9, 7, 6, 1, 4, 2, 3], [4, 2, 6, 8, 5, 3, 7, 9, 1], [7, 1, 3, 9, 2, 4, 8, 5, 6], [9, 6, 1, 5, 3, 7, 2, 8, 4], [2, 8, 7, 4, 1, 9, 6, 3, 5], [3, 4, 5, 2, 8, 6, 1, 7, 9]]\n"
          ]
        }
      ],
      "source": [
        "def find_next_empty_space(puzzle):\n",
        "  # each empty space will be represented by -1\n",
        "  # EDGE CASE: when there is not a single, empty space, we will return (NONE, NONE)\n",
        "\n",
        "  for r in range(9):\n",
        "    for c in range(9):\n",
        "      if puzzle[r][c] == -1:\n",
        "        return r, c\n",
        "\n",
        "  return None, None\n",
        "\n",
        "\n",
        "\n",
        "def is_valid(puzzle, guess, row, col):\n",
        "  # this function will be checking that guess is valid or not, according to SUDOKU rules.\n",
        "  row_values = puzzle[row]\n",
        "\n",
        "  if guess in row_values: # first rule, if your guessed value is in the row, the guess is invalid\n",
        "    return False\n",
        "\n",
        "  col_values = [puzzle[i][col] for i in range(9)] #comprehension to get the column values.\n",
        "  if guess in col_values:\n",
        "    return False\n",
        "\n",
        "  # now check for the small 3x3, grid, that the guess is in that or not.\n",
        "  row_start = (row // 3) * 3 # to get the row index, of the grid\n",
        "  col_start = (col // 3) * 3 # to get the column index of the grid.\n",
        "  for r in range(row_start, row_start + 3):\n",
        "    for c in range(col_start, col_start + 3):\n",
        "      if puzzle[r][c] == guess:\n",
        "        return False\n",
        "\n",
        "  return True\n",
        "\n",
        "def sudoku_solve_func(puzzle):\n",
        "  # the argument \"puzzle\" will be a valid puzzle (a 9x9 grid), which the function will try to solve using BackTracking.\n",
        "\n",
        "  # this helper function will be traversing through each row, and will be providing the index of the empty space where we can put a value.\n",
        "  row, col = find_next_empty_space(puzzle)\n",
        "\n",
        "  # first Edge case, when we've traversed through the puzzle and there is no place to put a value.\n",
        "  if row is None:\n",
        "    return True\n",
        "\n",
        "  # if there is an empty space, we'll start guessing value to put it in there.\n",
        "  for guess in range(1, 10):\n",
        "    if is_valid(puzzle, guess, row, col):\n",
        "      puzzle[row][col] = guess\n",
        "\n",
        "      if sudoku_solve_func(puzzle):\n",
        "        return True\n",
        "\n",
        "    puzzle[row][col] = -1\n",
        "\n",
        "  return False\n",
        "\n",
        "\n",
        "\n",
        "if __name__ == \"__main__\":\n",
        "   sudoku_puzzle = [\n",
        "    [5, 3, -1, -1, 7, -1, -1, -1, -1],\n",
        "    [6, -1, -1, 1, 9, 5, -1, -1, -1],\n",
        "    [-1, 9, 8, -1, -1, -1, -1, 6, -1],\n",
        "    [8, -1, -1, -1, 6, -1, -1, -1, 3],\n",
        "    [4, -1, -1, 8, -1, 3, -1, -1, 1],\n",
        "    [7, -1, -1, -1, 2, -1, -1, -1, 6],\n",
        "    [-1, 6, -1, -1, -1, -1, 2, 8, -1],\n",
        "    [-1, -1, -1, 4, 1, 9, -1, -1, 5],\n",
        "    [-1, -1, -1, -1, 8, -1, -1, 7, 9]\n",
        "   ]\n",
        "\n",
        "   sudoku_solve_func(sudoku_puzzle)\n",
        "   print(sudoku_puzzle)\n"
      ]
    }
  ],
  "metadata": {
    "colab": {
      "authorship_tag": "ABX9TyOTKEyTtUzFoWR+Y0eIzva4",
      "include_colab_link": true,
      "provenance": []
    },
    "kernelspec": {
      "display_name": "Python 3",
      "name": "python3"
    },
    "language_info": {
      "name": "python",
      "version": "3.13.2"
    }
  },
  "nbformat": 4,
  "nbformat_minor": 0
}
